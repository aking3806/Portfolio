{
 "cells": [
  {
   "cell_type": "code",
   "execution_count": 10,
   "id": "ae349ed8",
   "metadata": {},
   "outputs": [],
   "source": [
    "import pandas as pd\n",
    "import numpy as np \n",
    "import random as rd\n",
    "import seaborn as sns\n",
    "import matplotlib.pyplot as plt \n",
    "import os "
   ]
  },
  {
   "cell_type": "markdown",
   "id": "17efa627",
   "metadata": {},
   "source": [
    "### Load Data file"
   ]
  },
  {
   "cell_type": "code",
   "execution_count": 11,
   "id": "8282c8d2",
   "metadata": {},
   "outputs": [
    {
     "data": {
      "text/plain": [
       "['Texas Data Project.ipynb',\n",
       " 'TX_CD29_BizNotes.csv',\n",
       " 'TX_CD29_Biz.csv',\n",
       " 'Texas_District_29.csv',\n",
       " 'Texas_CD29.csv',\n",
       " 'Texas_CD29_Notes.csv',\n",
       " '.ipynb_checkpoints']"
      ]
     },
     "execution_count": 11,
     "metadata": {},
     "output_type": "execute_result"
    }
   ],
   "source": [
    "#list all file names \n",
    "os.listdir()"
   ]
  },
  {
   "cell_type": "code",
   "execution_count": 36,
   "id": "7b43dfab",
   "metadata": {},
   "outputs": [],
   "source": [
    "tx_cd29 = pd.read_csv('Texas_District_29.csv')\n",
    "tx_cd29.head()"
   ]
  },
  {
   "cell_type": "code",
   "execution_count": 34,
   "id": "1065924a",
   "metadata": {},
   "outputs": [
    {
     "data": {
      "text/plain": [
       "array(['People', 'Workers', 'Housing', 'Socioeconomic', 'Education'],\n",
       "      dtype=object)"
      ]
     },
     "execution_count": 34,
     "metadata": {},
     "output_type": "execute_result"
    }
   ],
   "source": [
    "#Unique Topics\n",
    "tx_cd29.Topic.unique()"
   ]
  },
  {
   "cell_type": "code",
   "execution_count": null,
   "id": "82a92b41",
   "metadata": {},
   "outputs": [],
   "source": [
    "#df for each \n",
    "ppl = tx_cd29[tx_cd29['Topic']=='People']\n",
    "wrkers = tx_cd29[tx_cd29['Topic']=='Workers']\n",
    "housing = tx_cd29[tx_cd29['Topic']=='Housing']\n",
    "socioec = tx_cd29[tx_cd29['Topic']=='Socioeconomic']\n",
    "ed = tx_cd29[tx_cd29['Topic']=='Education']"
   ]
  },
  {
   "cell_type": "code",
   "execution_count": 39,
   "id": "433c77ab",
   "metadata": {},
   "outputs": [
    {
     "data": {
      "text/plain": [
       "array(['Sex and Age', 'Race', 'Hispanic or Latino and Race',\n",
       "       'Place of Birth', 'Ancestry', 'Veteran Status',\n",
       "       'Disability Status of the Civilian Noninstitutionalized Population',\n",
       "       'Residence 1 Year Ago'], dtype=object)"
      ]
     },
     "execution_count": 39,
     "metadata": {},
     "output_type": "execute_result"
    }
   ],
   "source": []
  },
  {
   "cell_type": "code",
   "execution_count": 32,
   "id": "fa163e74",
   "metadata": {},
   "outputs": [
    {
     "name": "stdout",
     "output_type": "stream",
     "text": [
      "Source: 2021 American Community Survey 1-Year Estimates\n",
      "Estimates in the People, Workers, Housing, Socioeconomic, and Education tabs are from the American Community Survey (ACS). The ACS is an annual household survey developed by the U.S. Census Bureau to replace the long form of the decennial census program. Each year, the ACS samples about 3.5 million household addresses to produce nearly 11 billion estimates covering demographic, social, economic, and housing characteristics.\n",
      "Except where noted, 'race' refers to people reporting only one race.  'Hispanic' refers to an ethnic category;  Hispanics may be of any race.\n",
      "An '**' entry in the margin of error column indicates that either no sample observations or too few sample observations were available to compute a standard error and thus the margin of error. A statistical test is not appropriate.\n",
      "An '-' entry in the estimate column indicates that either no sample observations or too few sample observations were available to compute an estimate, or a ratio of medians cannot be calculated because one or both of the median estimates falls in the lowest interval or upper interval of an open-ended distribution.\n",
      "An '-' following a median estimate means the median falls in the lowest interval of an open-ended distribution.\n",
      "An '+' following a median estimate means the median falls in the upper interval of an open-ended distribution.\n",
      "An '***' entry in the margin of error column indicates that the median falls in the lowest interval or upper interval of an open-ended distribution. A statistical test is not appropriate.\n",
      "An '*****' entry in the margin of error column indicates that the estimate is controlled. A statistical test for sampling variability is not appropriate.\n",
      "An 'N' entry in the estimate and margin of error columns indicates that data for this geographic area cannot be displayed because the number of sample cases is too small.\n",
      "An '(X)' means that the estimate is not applicable or not available\n",
      "If calculating a percentage, use the total population line within the section as the denominator. Do not use total population lines from other sections since these may have different universes.\n"
     ]
    }
   ],
   "source": [
    "#Notes for Datafile \n",
    "tx_cd29_notes = pd.read_csv('Texas_CD29_Notes.csv')\n",
    "#pd.set_option('display.max_colwidth', None)\n",
    "notes = tx_cd29_notes.Notes.astype(str)\n",
    "# Join the text Series into a single string\n",
    "#notes = ' '.join(notes)\n",
    "li_notes = list(notes)\n",
    "\n",
    "for note in li_notes: \n",
    "    print(note)"
   ]
  },
  {
   "cell_type": "markdown",
   "id": "cbf3ab23",
   "metadata": {},
   "source": [
    "### People "
   ]
  },
  {
   "cell_type": "code",
   "execution_count": 41,
   "id": "fcbae5de",
   "metadata": {},
   "outputs": [
    {
     "data": {
      "text/plain": [
       "array(['Sex and Age', 'Race', 'Hispanic or Latino and Race',\n",
       "       'Place of Birth', 'Ancestry', 'Veteran Status',\n",
       "       'Disability Status of the Civilian Noninstitutionalized Population',\n",
       "       'Residence 1 Year Ago'], dtype=object)"
      ]
     },
     "execution_count": 41,
     "metadata": {},
     "output_type": "execute_result"
    }
   ],
   "source": [
    "#subjects in people \n",
    "ppl.Subject.unique()"
   ]
  },
  {
   "cell_type": "code",
   "execution_count": 117,
   "id": "749d9620",
   "metadata": {},
   "outputs": [
    {
     "name": "stderr",
     "output_type": "stream",
     "text": [
      "/var/folders/vv/15vmsdzj0d9c0x2z42fx60fr0000gn/T/ipykernel_82241/1640420467.py:3: SettingWithCopyWarning: \n",
      "A value is trying to be set on a copy of a slice from a DataFrame.\n",
      "Try using .loc[row_indexer,col_indexer] = value instead\n",
      "\n",
      "See the caveats in the documentation: https://pandas.pydata.org/pandas-docs/stable/user_guide/indexing.html#returning-a-view-versus-a-copy\n",
      "  hispanic['District 29 Estimate'] = hispanic['District 29 Estimate'].apply(lambda x: int(x.replace(',', '')))\n"
     ]
    },
    {
     "data": {
      "text/plain": [
       "550847"
      ]
     },
     "execution_count": 117,
     "metadata": {},
     "output_type": "execute_result"
    }
   ],
   "source": [
    "#look at just hispanic \n",
    "hispanic = ppl[ppl['Subject'] == 'Hispanic or Latino and Race']\n",
    "hispanic['District 29 Estimate'] = hispanic['District 29 Estimate'].apply(lambda x: int(x.replace(',', '')))\n",
    "variables = ['Mexican','Puerto Rican', 'Cuban', 'Other Hispanic or Latino']\n",
    "hispanic[hispanic['Title'] == 'Total population'] \n",
    "#var = hispanic[hispanic['Title'] == 'Not Hispanic or Latino']['District 29 Estimate']\n",
    "#740023 - 189176"
   ]
  },
  {
   "cell_type": "code",
   "execution_count": 128,
   "id": "325413a5",
   "metadata": {},
   "outputs": [
    {
     "data": {
      "text/plain": [
       "550847"
      ]
     },
     "execution_count": 128,
     "metadata": {},
     "output_type": "execute_result"
    }
   ],
   "source": [
    "#checking numbers \n",
    "just_hisp = hispanic.query(\"Title in ['Mexican','Puerto Rican', 'Cuban', 'Other Hispanic or Latino']\")\n",
    "just_hisp.astype({'District 29 Estimate': 'int'}).dtypes\n",
    "just_hisp_num = just_hisp['District 29 Estimate'].sum()\n",
    "just_hisp_num"
   ]
  },
  {
   "cell_type": "code",
   "execution_count": 133,
   "id": "92bc1b46",
   "metadata": {},
   "outputs": [
    {
     "name": "stderr",
     "output_type": "stream",
     "text": [
      "/var/folders/vv/15vmsdzj0d9c0x2z42fx60fr0000gn/T/ipykernel_82241/2872073221.py:2: SettingWithCopyWarning: \n",
      "A value is trying to be set on a copy of a slice from a DataFrame.\n",
      "Try using .loc[row_indexer,col_indexer] = value instead\n",
      "\n",
      "See the caveats in the documentation: https://pandas.pydata.org/pandas-docs/stable/user_guide/indexing.html#returning-a-view-versus-a-copy\n",
      "  just_hisp['perc'] = just_hisp['District 29 Estimate']/just_hisp['District 29 Estimate'].sum()\n"
     ]
    },
    {
     "data": {
      "image/png": "[encoded data removed]",
      "text/plain": [
       "<Figure size 640x480 with 1 Axes>"
      ]
     },
     "metadata": {},
     "output_type": "display_data"
    }
   ],
   "source": [
    "just_hisp = hispanic.query(\"Title in ['Mexican','Puerto Rican', 'Cuban', 'Other Hispanic or Latino', 'Not Hispanic or Latino']\")\n",
    "just_hisp['perc'] = just_hisp['District 29 Estimate']/just_hisp['District 29 Estimate'].sum()\n",
    "#sns.barplot(x='Title',y='District 29 Estimate', data = just_hisp)\n",
    "#plt.pie(data, labels = labels, colors = colors, autopct='%.0f%%')\n",
    "data = just_hisp['District 29 Estimate']\n",
    "labels = just_hisp['Title']\n",
    "colors = sns.color_palette('deep')[0:5]\n",
    "plt.pie(data, labels = labels, colors = colors,startangle=100, radius=1.2, autopct='%.0f%%')\n",
    "plt.show()"
   ]
  },
  {
   "cell_type": "code",
   "execution_count": 87,
   "id": "0b3db338",
   "metadata": {},
   "outputs": [
    {
     "data": {
      "text/html": [
       "<div>\n",
       "<style scoped>\n",
       "    .dataframe tbody tr th:only-of-type {\n",
       "        vertical-align: middle;\n",
       "    }\n",
       "\n",
       "    .dataframe tbody tr th {\n",
       "        vertical-align: top;\n",
       "    }\n",
       "\n",
       "    .dataframe thead th {\n",
       "        text-align: right;\n",
       "    }\n",
       "</style>\n",
       "<table border=\"1\" class=\"dataframe\">\n",
       "  <thead>\n",
       "    <tr style=\"text-align: right;\">\n",
       "      <th></th>\n",
       "      <th>Topic</th>\n",
       "      <th>Subject</th>\n",
       "      <th>Title</th>\n",
       "      <th>District 29 Estimate</th>\n",
       "      <th>District 29 MOE</th>\n",
       "    </tr>\n",
       "  </thead>\n",
       "  <tbody>\n",
       "    <tr>\n",
       "      <th>28</th>\n",
       "      <td>People</td>\n",
       "      <td>Hispanic or Latino and Race</td>\n",
       "      <td>Total population</td>\n",
       "      <td>740,023</td>\n",
       "      <td>(+/-26,720)</td>\n",
       "    </tr>\n",
       "    <tr>\n",
       "      <th>29</th>\n",
       "      <td>People</td>\n",
       "      <td>Hispanic or Latino and Race</td>\n",
       "      <td>Hispanic or Latino (of any race)</td>\n",
       "      <td>550,847</td>\n",
       "      <td>(+/-24,754)</td>\n",
       "    </tr>\n",
       "    <tr>\n",
       "      <th>30</th>\n",
       "      <td>People</td>\n",
       "      <td>Hispanic or Latino and Race</td>\n",
       "      <td>Mexican</td>\n",
       "      <td>443,308</td>\n",
       "      <td>(+/-24,871)</td>\n",
       "    </tr>\n",
       "    <tr>\n",
       "      <th>31</th>\n",
       "      <td>People</td>\n",
       "      <td>Hispanic or Latino and Race</td>\n",
       "      <td>Puerto Rican</td>\n",
       "      <td>7,775</td>\n",
       "      <td>(+/-4,694)</td>\n",
       "    </tr>\n",
       "    <tr>\n",
       "      <th>32</th>\n",
       "      <td>People</td>\n",
       "      <td>Hispanic or Latino and Race</td>\n",
       "      <td>Cuban</td>\n",
       "      <td>3,882</td>\n",
       "      <td>(+/-2,104)</td>\n",
       "    </tr>\n",
       "    <tr>\n",
       "      <th>33</th>\n",
       "      <td>People</td>\n",
       "      <td>Hispanic or Latino and Race</td>\n",
       "      <td>Other Hispanic or Latino</td>\n",
       "      <td>95,882</td>\n",
       "      <td>(+/-13,396)</td>\n",
       "    </tr>\n",
       "    <tr>\n",
       "      <th>34</th>\n",
       "      <td>People</td>\n",
       "      <td>Hispanic or Latino and Race</td>\n",
       "      <td>Not Hispanic or Latino</td>\n",
       "      <td>189,176</td>\n",
       "      <td>(+/-16,208)</td>\n",
       "    </tr>\n",
       "  </tbody>\n",
       "</table>\n",
       "</div>"
      ],
      "text/plain": [
       "     Topic                      Subject                             Title   \n",
       "28  People  Hispanic or Latino and Race                  Total population  \\\n",
       "29  People  Hispanic or Latino and Race  Hispanic or Latino (of any race)   \n",
       "30  People  Hispanic or Latino and Race                           Mexican   \n",
       "31  People  Hispanic or Latino and Race                      Puerto Rican   \n",
       "32  People  Hispanic or Latino and Race                             Cuban   \n",
       "33  People  Hispanic or Latino and Race          Other Hispanic or Latino   \n",
       "34  People  Hispanic or Latino and Race            Not Hispanic or Latino   \n",
       "\n",
       "   District 29 Estimate District 29 MOE  \n",
       "28              740,023     (+/-26,720)  \n",
       "29              550,847     (+/-24,754)  \n",
       "30              443,308     (+/-24,871)  \n",
       "31                7,775      (+/-4,694)  \n",
       "32                3,882      (+/-2,104)  \n",
       "33               95,882     (+/-13,396)  \n",
       "34              189,176     (+/-16,208)  "
      ]
     },
     "execution_count": 87,
     "metadata": {},
     "output_type": "execute_result"
    }
   ],
   "source": [
    "hispanic = ppl[ppl['Subject'] == 'Hispanic or Latino and Race']\n",
    "hispanic"
   ]
  }
 ],
 "metadata": {
  "kernelspec": {
   "display_name": "Python 3 (ipykernel)",
   "language": "python",
   "name": "python3"
  },
  "language_info": {
   "codemirror_mode": {
    "name": "ipython",
    "version": 3
   },
   "file_extension": ".py",
   "mimetype": "text/x-python",
   "name": "python",
   "nbconvert_exporter": "python",
   "pygments_lexer": "ipython3",
   "version": "3.9.13"
  }
 },
 "nbformat": 4,
 "nbformat_minor": 5
}
