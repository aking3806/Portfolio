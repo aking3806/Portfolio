{
 "cells": [
  {
   "cell_type": "code",
   "execution_count": 10,
   "id": "df75838a",
   "metadata": {},
   "outputs": [],
   "source": [
    "import pandas as pd\n",
    "import numpy as np \n",
    "import random as rd\n",
    "import seaborn as sns\n",
    "import matplotlib.pyplot as plt \n",
    "import os "
   ]
  },
  {
   "cell_type": "markdown",
   "id": "e325aad0",
   "metadata": {},
   "source": [
    "### Load Data file"
   ]
  },
  {
   "cell_type": "code",
   "execution_count": 11,
   "id": "476de002",
   "metadata": {},
   "outputs": [
    {
     "data": {
      "text/plain": [
       "['Texas Data Project.ipynb',\n",
       " 'TX_CD29_BizNotes.csv',\n",
       " 'TX_CD29_Biz.csv',\n",
       " 'Texas_District_29.csv',\n",
       " 'Texas_CD29.csv',\n",
       " 'Texas_CD29_Notes.csv',\n",
       " '.ipynb_checkpoints']"
      ]
     },
     "execution_count": 11,
     "metadata": {},
     "output_type": "execute_result"
    }
   ],
   "source": [
    "#list all file names \n",
    "os.listdir()"
   ]
  },
  {
   "cell_type": "code",
   "execution_count": 9,
   "id": "4a75d50e",
   "metadata": {},
   "outputs": [
    {
     "data": {
      "text/html": [
       "<div>\n",
       "<style scoped>\n",
       "    .dataframe tbody tr th:only-of-type {\n",
       "        vertical-align: middle;\n",
       "    }\n",
       "\n",
       "    .dataframe tbody tr th {\n",
       "        vertical-align: top;\n",
       "    }\n",
       "\n",
       "    .dataframe thead th {\n",
       "        text-align: right;\n",
       "    }\n",
       "</style>\n",
       "<table border=\"1\" class=\"dataframe\">\n",
       "  <thead>\n",
       "    <tr style=\"text-align: right;\">\n",
       "      <th></th>\n",
       "      <th>Topic</th>\n",
       "      <th>Subject</th>\n",
       "      <th>Title</th>\n",
       "      <th>District 29 Estimate</th>\n",
       "      <th>District 29 MOE</th>\n",
       "    </tr>\n",
       "  </thead>\n",
       "  <tbody>\n",
       "    <tr>\n",
       "      <th>0</th>\n",
       "      <td>People</td>\n",
       "      <td>Sex and Age</td>\n",
       "      <td>Total population</td>\n",
       "      <td>740,023</td>\n",
       "      <td>(+/-26,720)</td>\n",
       "    </tr>\n",
       "    <tr>\n",
       "      <th>1</th>\n",
       "      <td>People</td>\n",
       "      <td>Sex and Age</td>\n",
       "      <td>Male</td>\n",
       "      <td>381,407</td>\n",
       "      <td>(+/-15,905)</td>\n",
       "    </tr>\n",
       "    <tr>\n",
       "      <th>2</th>\n",
       "      <td>People</td>\n",
       "      <td>Sex and Age</td>\n",
       "      <td>Female</td>\n",
       "      <td>358,616</td>\n",
       "      <td>(+/-14,462)</td>\n",
       "    </tr>\n",
       "    <tr>\n",
       "      <th>3</th>\n",
       "      <td>People</td>\n",
       "      <td>Sex and Age</td>\n",
       "      <td>Under 5 years</td>\n",
       "      <td>49,249</td>\n",
       "      <td>(+/-5,436)</td>\n",
       "    </tr>\n",
       "    <tr>\n",
       "      <th>4</th>\n",
       "      <td>People</td>\n",
       "      <td>Sex and Age</td>\n",
       "      <td>5 to 9 years</td>\n",
       "      <td>54,428</td>\n",
       "      <td>(+/-5,516)</td>\n",
       "    </tr>\n",
       "  </tbody>\n",
       "</table>\n",
       "</div>"
      ],
      "text/plain": [
       "    Topic      Subject             Title District 29 Estimate District 29 MOE\n",
       "0  People  Sex and Age  Total population              740,023     (+/-26,720)\n",
       "1  People  Sex and Age              Male              381,407     (+/-15,905)\n",
       "2  People  Sex and Age            Female              358,616     (+/-14,462)\n",
       "3  People  Sex and Age     Under 5 years               49,249      (+/-5,436)\n",
       "4  People  Sex and Age      5 to 9 years               54,428      (+/-5,516)"
      ]
     },
     "execution_count": 9,
     "metadata": {},
     "output_type": "execute_result"
    }
   ],
   "source": [
    "tx_cd29 = pd.read_csv('Texas_District_29.csv')\n",
    "tx_cd29.head()"
   ]
  },
  {
   "cell_type": "code",
   "execution_count": null,
   "id": "b34c930f",
   "metadata": {},
   "outputs": [],
   "source": [
    "Texas_CD29_Notes.csv "
   ]
  }
 ],
 "metadata": {
  "kernelspec": {
   "display_name": "Python 3 (ipykernel)",
   "language": "python",
   "name": "python3"
  },
  "language_info": {
   "codemirror_mode": {
    "name": "ipython",
    "version": 3
   },
   "file_extension": ".py",
   "mimetype": "text/x-python",
   "name": "python",
   "nbconvert_exporter": "python",
   "pygments_lexer": "ipython3",
   "version": "3.9.13"
  }
 },
 "nbformat": 4,
 "nbformat_minor": 5
}
